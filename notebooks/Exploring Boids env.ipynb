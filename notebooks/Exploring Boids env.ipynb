{
 "cells": [
  {
   "cell_type": "markdown",
   "id": "eb365279-fbb7-4342-9824-05a8834dbf7b",
   "metadata": {},
   "source": [
    "# Topics\n",
    "\n",
    "- Render image\n",
    "- Render image with sight distance\n",
    "- Render observation\n",
    "- Play loop in human mode vs training mode, with either simple of image observations"
   ]
  },
  {
   "cell_type": "markdown",
   "id": "d35498b7-2404-4a97-9211-d7bceaa56418",
   "metadata": {},
   "source": [
    "## Render images"
   ]
  },
  {
   "cell_type": "code",
   "execution_count": 1,
   "id": "06e03ec5-2622-45b3-b378-f4c7ee56db90",
   "metadata": {},
   "outputs": [],
   "source": [
    "%load_ext autoreload"
   ]
  },
  {
   "cell_type": "code",
   "execution_count": 2,
   "id": "af2849a7-e89b-4aa7-a771-c8279ddeb121",
   "metadata": {},
   "outputs": [],
   "source": [
    "%autoreload 2\n",
    "\n",
    "from environments.model_ready_boids import RavenChasingBoids"
   ]
  },
  {
   "cell_type": "code",
   "execution_count": 48,
   "id": "60c57837-5782-47d7-80c0-fe232cfeb152",
   "metadata": {},
   "outputs": [],
   "source": [
    "env = RavenChasingBoids(20, render_mode=\"rgb_array\", observation_type=\"visual\")"
   ]
  },
  {
   "cell_type": "code",
   "execution_count": 34,
   "id": "3879b2e9-c9bf-4d2a-99ed-0243310887d6",
   "metadata": {},
   "outputs": [],
   "source": [
    "image = env.render()"
   ]
  },
  {
   "cell_type": "code",
   "execution_count": 35,
   "id": "66384f23-4170-471c-aebf-beff224e0c78",
   "metadata": {
    "scrolled": true
   },
   "outputs": [
    {
     "data": {
      "image/jpeg": "[encoded data removed]",
      "image/png": "[encoded data removed]",
      "text/plain": [
       "<PIL.Image.Image image mode=RGB size=256x256>"
      ]
     },
     "execution_count": 35,
     "metadata": {},
     "output_type": "execute_result"
    }
   ],
   "source": [
    "Image.fromarray(image)"
   ]
  },
  {
   "cell_type": "code",
   "execution_count": 43,
   "id": "fb33f277-cacc-4907-a002-8c841ce5ebe0",
   "metadata": {},
   "outputs": [
    {
     "data": {
      "image/jpeg": "[encoded data removed]",
      "image/png": "[encoded data removed]",
      "text/plain": [
       "<PIL.Image.Image image mode=RGB size=66x66>"
      ]
     },
     "execution_count": 43,
     "metadata": {},
     "output_type": "execute_result"
    }
   ],
   "source": [
    "Image.fromarray(env.get_visual_observation())"
   ]
  },
  {
   "cell_type": "code",
   "execution_count": 49,
   "id": "135aaed4-f390-403c-8e27-2848bed03566",
   "metadata": {},
   "outputs": [
    {
     "name": "stdout",
     "output_type": "stream",
     "text": [
      "0 steps taken. Average steps per episode: nan\n",
      "0 steps taken. Average steps per episode: nan\n",
      "1 steps taken. Average steps per episode: nan\n"
     ]
    }
   ],
   "source": [
    "from stable_baselines3.common.env_checker import check_env\n",
    "check_env(env)"
   ]
  },
  {
   "cell_type": "code",
   "execution_count": 18,
   "id": "31000992-2969-4dc3-a900-1838fb2c5cae",
   "metadata": {},
   "outputs": [
    {
     "data": {
      "image/jpeg": "[encoded data removed]",
      "image/png": "[encoded data removed]",
      "text/plain": [
       "<PIL.Image.Image image mode=L size=256x256>"
      ]
     },
     "execution_count": 18,
     "metadata": {},
     "output_type": "execute_result"
    }
   ],
   "source": [
    "import numpy as np\n",
    "from PIL import Image\n",
    "\n",
    "def create_image(data):\n",
    "    # Initialize a 256x256 array with zeros\n",
    "    image_array = np.zeros((256, 256), dtype=np.uint8)\n",
    "\n",
    "    # Process each agent in the data\n",
    "    for agent in data:\n",
    "        x, y = agent.position\n",
    "        # Round the positions to nearest integer and ensure they are within the 256x256 grid\n",
    "        x = min(max(int(round(x)), 0), 255)\n",
    "        y = min(max(int(round(y)), 0), 255)\n",
    "        \n",
    "        # Set the pixel value based on agent type\n",
    "        if agent.agent_type == 'boid':\n",
    "            image_array[y, x] = 255\n",
    "        elif agent.agent_type == 'raven':\n",
    "            image_array[y, x] = 2\n",
    "\n",
    "    # Create an image from the array\n",
    "    img = Image.fromarray(image_array)\n",
    "    return img\n",
    "\n",
    "# Example usage\n",
    "data = agents\n",
    "\n",
    "img = create_image(data)\n",
    "img"
   ]
  },
  {
   "cell_type": "code",
   "execution_count": null,
   "id": "57845c9b-7bea-4462-a25a-e62d927176c5",
   "metadata": {},
   "outputs": [],
   "source": []
  }
 ],
 "metadata": {
  "kernelspec": {
   "display_name": "zero-player-games",
   "language": "python",
   "name": "zero-player-games"
  },
  "language_info": {
   "codemirror_mode": {
    "name": "ipython",
    "version": 3
   },
   "file_extension": ".py",
   "mimetype": "text/x-python",
   "name": "python",
   "nbconvert_exporter": "python",
   "pygments_lexer": "ipython3",
   "version": "3.10.0"
  }
 },
 "nbformat": 4,
 "nbformat_minor": 5
}
