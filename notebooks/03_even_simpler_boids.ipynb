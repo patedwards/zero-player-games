{
 "cells": [
  {
   "cell_type": "markdown",
   "id": "03df825f-d55c-4d96-a4ea-974e131facb7",
   "metadata": {},
   "source": [
    "Making this notebook to play with using array based observations rather than images. Let's start smaller."
   ]
  },
  {
   "cell_type": "code",
   "execution_count": 2,
   "id": "84c87143-8379-416a-a65b-4b5b8025c7af",
   "metadata": {},
   "outputs": [],
   "source": [
    "import gymnasium as gym\n",
    "from IPython.display import Video\n",
    "import sys\n",
    "import os\n",
    "\n",
    "os.environ[\"SDL_VIDEODRIVER\"] = \"dummy\" # this stops pygame opening it's own window\n"
   ]
  },
  {
   "cell_type": "code",
   "execution_count": 3,
   "id": "46ee2688-5249-494d-a846-cfa7804ca475",
   "metadata": {},
   "outputs": [],
   "source": [
    "%load_ext autoreload"
   ]
  },
  {
   "cell_type": "code",
   "execution_count": 4,
   "id": "7dcc665a-0982-4d94-a91e-8d8975a4ae9b",
   "metadata": {},
   "outputs": [],
   "source": [
    "import gymnasium as gym\n",
    "from environments.model_ready_boids import RavenChasingBoids\n",
    "\n",
    "from stable_baselines3 import DQN\n",
    "from stable_baselines3.common.evaluation import evaluate_policy\n"
   ]
  },
  {
   "cell_type": "code",
   "execution_count": null,
   "id": "a7a9a841-5cc7-4c14-b101-d785f70be7c6",
   "metadata": {},
   "outputs": [],
   "source": []
  },
  {
   "cell_type": "code",
   "execution_count": 5,
   "id": "58380428-c5fc-4b69-963f-4c478f567faf",
   "metadata": {},
   "outputs": [],
   "source": [
    "%autoreload 2\n",
    "# Now import the function\n",
    "import gym_utils\n",
    "import controllers\n",
    "import agents\n",
    "import runners\n",
    "import environments\n",
    "from environments.simple_boids import PureBoinds, BoidsWithRavenoid\n",
    "from gym_utils.vis import create_environment_video"
   ]
  },
  {
   "cell_type": "code",
   "execution_count": 6,
   "id": "b87b733f-1281-4979-93bd-12b0c3637c00",
   "metadata": {},
   "outputs": [],
   "source": [
    "env = BoidsWithRavenoid(100, render_mode=\"rgb_array\")"
   ]
  },
  {
   "cell_type": "code",
   "execution_count": 7,
   "id": "0a8e47f0",
   "metadata": {},
   "outputs": [
    {
     "data": {
      "text/plain": [
       "0"
      ]
     },
     "execution_count": 7,
     "metadata": {},
     "output_type": "execute_result"
    }
   ],
   "source": [
    "env.action_space.sample()"
   ]
  },
  {
   "cell_type": "code",
   "execution_count": 8,
   "id": "bda19998-baee-4ad6-b76f-9e15b4a1da39",
   "metadata": {
    "scrolled": true
   },
   "outputs": [
    {
     "data": {
      "image/jpeg": "[encoded data removed]",
      "image/png": "[encoded data removed]",
      "text/plain": [
       "<PIL.Image.Image image mode=RGB size=256x256>"
      ]
     },
     "execution_count": 8,
     "metadata": {},
     "output_type": "execute_result"
    }
   ],
   "source": [
    "from PIL import Image\n",
    "from environments.model_ready_boids import RavenChasingBoids\n",
    "env = RavenChasingBoids(20, render_mode=\"rgb_array\")\n",
    "env.step(0)\n",
    "for i in range(100):\n",
    "    env.step(0)\n",
    "arr = env.render()\n",
    "Image.fromarray(arr)"
   ]
  },
  {
   "cell_type": "code",
   "execution_count": 226,
   "id": "191cb2ed-b19c-4741-96b6-e2e1cd32f014",
   "metadata": {},
   "outputs": [
    {
     "data": {
      "text/plain": [
       "0"
      ]
     },
     "execution_count": 226,
     "metadata": {},
     "output_type": "execute_result"
    }
   ],
   "source": [
    "env.previous_action"
   ]
  },
  {
   "cell_type": "code",
   "execution_count": 233,
   "id": "a1676c0b-989f-4dba-be47-60e757d842c6",
   "metadata": {},
   "outputs": [
    {
     "name": "stdout",
     "output_type": "stream",
     "text": [
      "0 steps taken. Average steps per episode: nan\n",
      "0 steps taken. Average steps per episode: nan\n",
      "1 steps taken. Average steps per episode: nan\n"
     ]
    }
   ],
   "source": [
    "from stable_baselines3.common.env_checker import check_env\n",
    "env = RavenChasingBoids(20, render_mode=\"rgb_array\", observation_type=\"array\")\n",
    "check_env(env)"
   ]
  },
  {
   "cell_type": "code",
   "execution_count": 204,
   "id": "f38153b0-030a-42e3-a442-f44e269160d0",
   "metadata": {},
   "outputs": [
    {
     "name": "stdout",
     "output_type": "stream",
     "text": [
      "[1. 0. 0. 0. 0. 0. 0. 0.]\n"
     ]
    },
    {
     "data": {
      "image/jpeg": "[encoded data removed]",
      "image/png": "[encoded data removed]",
      "text/plain": [
       "<PIL.Image.Image image mode=RGB size=96x96>"
      ]
     },
     "execution_count": 204,
     "metadata": {},
     "output_type": "execute_result"
    }
   ],
   "source": [
    "print(env.get_array_observation())\n",
    "Image.fromarray(env.get_visual_observation())"
   ]
  },
  {
   "cell_type": "code",
   "execution_count": 1,
   "id": "1ba4c0a3-961d-46dc-aa9e-b77208f48c1d",
   "metadata": {},
   "outputs": [
    {
     "ename": "NameError",
     "evalue": "name 'env' is not defined",
     "output_type": "error",
     "traceback": [
      "\u001b[0;31m---------------------------------------------------------------------------\u001b[0m",
      "\u001b[0;31mNameError\u001b[0m                                 Traceback (most recent call last)",
      "Cell \u001b[0;32mIn[1], line 29\u001b[0m\n\u001b[1;32m     27\u001b[0m         \u001b[38;5;28;01mreturn\u001b[39;00m counts\n\u001b[1;32m     28\u001b[0m \u001b[38;5;66;03m#env.step(0)\u001b[39;00m\n\u001b[0;32m---> 29\u001b[0m \u001b[38;5;28mprint\u001b[39m(get_array_observation(\u001b[43menv\u001b[49m))\n\u001b[1;32m     30\u001b[0m Image\u001b[38;5;241m.\u001b[39mfromarray(env\u001b[38;5;241m.\u001b[39mget_visual_observation())\n",
      "\u001b[0;31mNameError\u001b[0m: name 'env' is not defined"
     ]
    }
   ],
   "source": [
    "import numpy as np\n",
    "\n",
    "def get_array_observation(self):\n",
    "        # TODO: this won't have the ability to see over to the next boundary\n",
    "        nearby_agents = self.ravenoid.nearby_agents\n",
    "        #nearby_agents = self.controller.get_agents()\n",
    "        sight_distance = 40\n",
    "        # calculate the distance and angle to each agent\n",
    "        distances = []\n",
    "        angles = []\n",
    "        for agent in nearby_agents:\n",
    "            if agent.id == self.ravenoid.id:\n",
    "                continue\n",
    "            distance = np.linalg.norm(agent.position - self.ravenoid.position)\n",
    "            if distance > sight_distance: \n",
    "                continue\n",
    "            angle = np.arctan2(agent.position[1] - self.ravenoid.position[1], agent.position[0] - self.ravenoid.position[0])\n",
    "            if angle < 0:\n",
    "                angle += 2 * np.pi\n",
    "            distances.append(distance)\n",
    "            angles.append(angle)\n",
    "        # for each direction, count the number of agents in that direction\n",
    "        counts = np.zeros(8)\n",
    "        for distance, angle in zip(distances, angles):\n",
    "            direction = int(np.round(angle / (2 * np.pi) * 8)) % 8\n",
    "            counts[direction] += 1\n",
    "        return counts\n",
    "#env.step(0)\n",
    "print(get_array_observation(env))\n",
    "Image.fromarray(env.get_visual_observation())"
   ]
  },
  {
   "cell_type": "code",
   "execution_count": 200,
   "id": "c0314569-5bda-488c-93b6-fed4ead36c09",
   "metadata": {},
   "outputs": [
    {
     "data": {
      "text/plain": [
       "7"
      ]
     },
     "execution_count": 200,
     "metadata": {},
     "output_type": "execute_result"
    }
   ],
   "source": [
    "angle = (0/8 - np.pi)*2*np.pi\n",
    "#if angle < 0:\n",
    "#    angle += 2 * np.pi\n",
    "int(np.round(angle / (2 * np.pi) * 8)) % 8"
   ]
  },
  {
   "cell_type": "code",
   "execution_count": 150,
   "id": "d4136c5b-bee0-4e3f-913a-6f5d8c2dfdc7",
   "metadata": {},
   "outputs": [
    {
     "data": {
      "text/plain": [
       "3.141592653589793"
      ]
     },
     "execution_count": 150,
     "metadata": {},
     "output_type": "execute_result"
    }
   ],
   "source": [
    "np.pi"
   ]
  },
  {
   "cell_type": "code",
   "execution_count": 245,
   "id": "75a87983-81d3-4080-a534-f898b941c557",
   "metadata": {},
   "outputs": [
    {
     "name": "stdout",
     "output_type": "stream",
     "text": [
      "Wrapping the env with a `Monitor` wrapper\n",
      "Wrapping the env in a DummyVecEnv.\n",
      "0 steps taken. Average steps per episode: nan\n",
      "1087 steps taken. Average steps per episode: 1087.0\n"
     ]
    }
   ],
   "source": [
    "from gym_utils.vis import create_environment_video_with_model\n",
    "\n",
    "env = RavenChasingBoids(20, render_mode=\"rgb_array\", observation_type=\"array\")\n",
    "model = DQN.load(\"../training/model_training_111824_1\", env=env)\n",
    "\n",
    "video_filename = 'ravenoid.mp4'\n",
    "create_environment_video_with_model(model, video_filename, steps=4000)"
   ]
  },
  {
   "cell_type": "code",
   "execution_count": 246,
   "id": "79226d16-248e-44d6-813d-a9a67e79986d",
   "metadata": {},
   "outputs": [
    {
     "data": {
      "text/html": [
       "<video src=\"ravenoid.mp4\" controls  >\n",
       "      Your browser does not support the <code>video</code> element.\n",
       "    </video>"
      ],
      "text/plain": [
       "<IPython.core.display.Video object>"
      ]
     },
     "execution_count": 246,
     "metadata": {},
     "output_type": "execute_result"
    }
   ],
   "source": [
    "Video(video_filename)"
   ]
  },
  {
   "cell_type": "code",
   "execution_count": 272,
   "id": "f0311553-3e91-4bde-be27-47576b7c8f39",
   "metadata": {},
   "outputs": [],
   "source": [
    "env_model = model.get_env()"
   ]
  },
  {
   "cell_type": "code",
   "execution_count": 273,
   "id": "8e4335e9-9c67-4691-ac56-5165a0f7630c",
   "metadata": {},
   "outputs": [
    {
     "name": "stdout",
     "output_type": "stream",
     "text": [
      "1 steps taken. Average steps per episode: nan\n"
     ]
    }
   ],
   "source": [
    "obs = env_model.reset()"
   ]
  },
  {
   "cell_type": "code",
   "execution_count": 274,
   "id": "c3cd8fb1-8d14-402d-9eb7-106c1dbe155c",
   "metadata": {},
   "outputs": [
    {
     "data": {
      "text/plain": [
       "(array([[[0, 0, 0],\n",
       "         [0, 0, 0],\n",
       "         [0, 0, 0],\n",
       "         ...,\n",
       "         [0, 0, 0],\n",
       "         [0, 0, 0],\n",
       "         [0, 0, 0]],\n",
       " \n",
       "        [[0, 0, 0],\n",
       "         [0, 0, 0],\n",
       "         [0, 0, 0],\n",
       "         ...,\n",
       "         [0, 0, 0],\n",
       "         [0, 0, 0],\n",
       "         [0, 0, 0]],\n",
       " \n",
       "        [[0, 0, 0],\n",
       "         [0, 0, 0],\n",
       "         [0, 0, 0],\n",
       "         ...,\n",
       "         [0, 0, 0],\n",
       "         [0, 0, 0],\n",
       "         [0, 0, 0]],\n",
       " \n",
       "        ...,\n",
       " \n",
       "        [[0, 0, 0],\n",
       "         [0, 0, 0],\n",
       "         [0, 0, 0],\n",
       "         ...,\n",
       "         [0, 0, 0],\n",
       "         [0, 0, 0],\n",
       "         [0, 0, 0]],\n",
       " \n",
       "        [[0, 0, 0],\n",
       "         [0, 0, 0],\n",
       "         [0, 0, 0],\n",
       "         ...,\n",
       "         [0, 0, 0],\n",
       "         [0, 0, 0],\n",
       "         [0, 0, 0]],\n",
       " \n",
       "        [[0, 0, 0],\n",
       "         [0, 0, 0],\n",
       "         [0, 0, 0],\n",
       "         ...,\n",
       "         [0, 0, 0],\n",
       "         [0, 0, 0],\n",
       "         [0, 0, 0]]], dtype=uint8),\n",
       " {})"
      ]
     },
     "execution_count": 274,
     "metadata": {},
     "output_type": "execute_result"
    }
   ],
   "source": [
    "obs"
   ]
  },
  {
   "cell_type": "code",
   "execution_count": 268,
   "id": "301e16b1-7b54-4f77-8c10-d5806502acaa",
   "metadata": {},
   "outputs": [
    {
     "data": {
      "text/plain": [
       "5"
      ]
     },
     "execution_count": 268,
     "metadata": {},
     "output_type": "execute_result"
    }
   ],
   "source": [
    "obs[:,3] = 1\n",
    "obs[:,5] = 4\n",
    "np.argmax(obs)"
   ]
  },
  {
   "cell_type": "code",
   "execution_count": 271,
   "id": "84c59b5d-78e8-42e4-918f-aacbf1b8e875",
   "metadata": {},
   "outputs": [
    {
     "data": {
      "text/plain": [
       "array([[0., 0., 0., 1., 2., 4., 0., 0.]])"
      ]
     },
     "execution_count": 271,
     "metadata": {},
     "output_type": "execute_result"
    }
   ],
   "source": [
    "obs"
   ]
  },
  {
   "cell_type": "code",
   "execution_count": 270,
   "id": "c9d99e89-1727-4daa-8017-dd4cb6ad62ea",
   "metadata": {},
   "outputs": [
    {
     "name": "stdout",
     "output_type": "stream",
     "text": [
      "[]\n",
      "0 steps taken. Average steps per episode: nan\n"
     ]
    },
    {
     "name": "stderr",
     "output_type": "stream",
     "text": [
      "/Users/patrick/Projects/active_projects/zero-player-games/zero-player-games/lib/python3.10/site-packages/numpy/core/fromnumeric.py:3504: RuntimeWarning: Mean of empty slice.\n",
      "  return _methods._mean(a, axis=axis, dtype=dtype,\n",
      "/Users/patrick/Projects/active_projects/zero-player-games/zero-player-games/lib/python3.10/site-packages/numpy/core/_methods.py:129: RuntimeWarning: invalid value encountered in scalar divide\n",
      "  ret = ret.dtype.type(ret / rcount)\n"
     ]
    },
    {
     "ename": "ValueError",
     "evalue": "too many values to unpack (expected 4)",
     "output_type": "error",
     "traceback": [
      "\u001b[0;31m---------------------------------------------------------------------------\u001b[0m",
      "\u001b[0;31mValueError\u001b[0m                                Traceback (most recent call last)",
      "Cell \u001b[0;32mIn[270], line 19\u001b[0m\n\u001b[1;32m     16\u001b[0m \u001b[38;5;28;01mfrom\u001b[39;00m \u001b[38;5;21;01mgym_utils\u001b[39;00m\u001b[38;5;21;01m.\u001b[39;00m\u001b[38;5;21;01mvis\u001b[39;00m \u001b[38;5;28;01mimport\u001b[39;00m create_environment_video_with_model\n\u001b[1;32m     18\u001b[0m video_filename \u001b[38;5;241m=\u001b[39m \u001b[38;5;124m'\u001b[39m\u001b[38;5;124mmock_boids.mp4\u001b[39m\u001b[38;5;124m'\u001b[39m\n\u001b[0;32m---> 19\u001b[0m \u001b[43mcreate_environment_video_with_model\u001b[49m\u001b[43m(\u001b[49m\u001b[43mmodel\u001b[49m\u001b[43m,\u001b[49m\u001b[43m \u001b[49m\u001b[43mvideo_filename\u001b[49m\u001b[43m,\u001b[49m\u001b[43m \u001b[49m\u001b[43msteps\u001b[49m\u001b[38;5;241;43m=\u001b[39;49m\u001b[38;5;241;43m1000\u001b[39;49m\u001b[43m)\u001b[49m\n\u001b[1;32m     20\u001b[0m \u001b[38;5;28mprint\u001b[39m(env\u001b[38;5;241m.\u001b[39mhistory)\n\u001b[1;32m     21\u001b[0m Video(video_filename)\n",
      "File \u001b[0;32m~/Projects/active_projects/zero-player-games/src/gym_utils/vis.py:29\u001b[0m, in \u001b[0;36mcreate_environment_video_with_model\u001b[0;34m(model, filename, steps)\u001b[0m\n\u001b[1;32m     27\u001b[0m video\u001b[38;5;241m.\u001b[39mappend_data(frame)\n\u001b[1;32m     28\u001b[0m action, _states \u001b[38;5;241m=\u001b[39m model\u001b[38;5;241m.\u001b[39mpredict(obs, deterministic\u001b[38;5;241m=\u001b[39m\u001b[38;5;28;01mTrue\u001b[39;00m)\n\u001b[0;32m---> 29\u001b[0m obs, rewards, terminated, info \u001b[38;5;241m=\u001b[39m vec_env\u001b[38;5;241m.\u001b[39mstep(action)\n\u001b[1;32m     30\u001b[0m \u001b[38;5;28;01mif\u001b[39;00m terminated:\n\u001b[1;32m     31\u001b[0m     \u001b[38;5;28;01mbreak\u001b[39;00m\n",
      "\u001b[0;31mValueError\u001b[0m: too many values to unpack (expected 4)"
     ]
    }
   ],
   "source": [
    "class JustFollowModel:\n",
    "    def __init__(self, env):\n",
    "        self.action_space = env.action_space\n",
    "        self.env = env\n",
    "\n",
    "    def predict(self, observation, state=None, episode_start=None, deterministic=None):\n",
    "        action = np.argmax(obs)\n",
    "        return action, state\n",
    "\n",
    "    def get_env(self): return self.env\n",
    "        \n",
    "env = RavenChasingBoids(10, render_mode=\"rgb_array\")\n",
    "print(env.history)\n",
    "model = JustFollowModel(env)\n",
    "\n",
    "from gym_utils.vis import create_environment_video_with_model\n",
    "\n",
    "video_filename = 'mock_boids.mp4'\n",
    "create_environment_video_with_model(model, video_filename, steps=1000)\n",
    "print(env.history)\n",
    "Video(video_filename)"
   ]
  },
  {
   "cell_type": "code",
   "execution_count": null,
   "id": "5b48d3e2-fcbf-4061-9677-2751d4cb4b59",
   "metadata": {},
   "outputs": [],
   "source": []
  }
 ],
 "metadata": {
  "kernelspec": {
   "display_name": "zero-player-games",
   "language": "python",
   "name": "zero-player-games"
  },
  "language_info": {
   "codemirror_mode": {
    "name": "ipython",
    "version": 3
   },
   "file_extension": ".py",
   "mimetype": "text/x-python",
   "name": "python",
   "nbconvert_exporter": "python",
   "pygments_lexer": "ipython3",
   "version": "3.10.0"
  }
 },
 "nbformat": 4,
 "nbformat_minor": 5
}
